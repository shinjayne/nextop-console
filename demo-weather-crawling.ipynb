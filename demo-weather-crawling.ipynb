{
 "cells": [
  {
   "cell_type": "code",
   "execution_count": 2,
   "metadata": {},
   "outputs": [
    {
     "name": "stdout",
     "output_type": "stream",
     "text": [
      "['<li class=\"info\">구름조금<br/>강수확률 <span class=\"rain\"><strong>10</strong>%</span></li>', '<li class=\"info\">구름많음<br/>강수확률 <span class=\"rain\"><strong>20</strong>%</span></li>', '<li class=\"info\">구름많음<br/>강수확률 <span class=\"rain\"><strong>20</strong>%</span></li>', '<li class=\"info\">흐린 후 갬<br/>강수확률 <span class=\"rain\"><strong>0</strong>%</span></li>', '<li class=\"info\">맑음</li>', '<li class=\"info\">맑음</li>', '<li class=\"info\">구름조금</li>', '<li class=\"info\">구름조금</li>', '<li class=\"info\">구름조금</li>', '<li class=\"info\">구름조금</li>', '<li class=\"info\">맑음</li>', '<li class=\"info\">맑음</li>', '<li class=\"info\">구름조금</li>', '<li class=\"info\">구름조금</li>']\n",
      "['구름조금', '10%']\n",
      "['구름많음', '20%']\n",
      "['구름많음', '20%']\n",
      "['흐린 후 갬', '0%']\n"
     ]
    }
   ],
   "source": [
    "# coding=utf-8\n",
    "\n",
    "import requests\n",
    "from bs4 import BeautifulSoup\n",
    "import json\n",
    "import os\n",
    "\n",
    "\n",
    "\n",
    "\n",
    "\n",
    "#python파일의 위치\n",
    "#BASE_DIR = os.path.dirname(os.path.abspath(__file__))\n",
    "\n",
    "req = requests.get('http://weather.naver.com/rgn/townWetr.nhn?naverRgnCd=09620101')\n",
    "html = req.text\n",
    "soup = BeautifulSoup(html, 'html.parser')\n",
    "wea = soup.find_all(\"li\", {\"class\":\"info\"})\n",
    "\n",
    "w = list(wea)\n",
    "\n",
    "\n",
    "\n",
    "\n",
    "ws = list(str(i) for i in w)\n",
    "\n",
    "print(ws)\n",
    "\n",
    "today_am = (wea[0].text).split(\"강수확률 \")\n",
    "today_pm = (wea[1].text).split(\"강수확률 \")\n",
    "tomor_am = (wea[2].text).split(\"강수확률 \")\n",
    "tomor_pm = (wea[3].text).split(\"강수확률 \")\n",
    "\n",
    "weather = [today_am, today_pm, tomor_am, tomor_pm]\n",
    "\n",
    "for i in weather:\n",
    "    print(i)"
   ]
  },
  {
   "cell_type": "code",
   "execution_count": null,
   "metadata": {
    "collapsed": true
   },
   "outputs": [],
   "source": []
  }
 ],
 "metadata": {
  "kernelspec": {
   "display_name": "Python [conda root]",
   "language": "python",
   "name": "conda-root-py"
  },
  "language_info": {
   "codemirror_mode": {
    "name": "ipython",
    "version": 3
   },
   "file_extension": ".py",
   "mimetype": "text/x-python",
   "name": "python",
   "nbconvert_exporter": "python",
   "pygments_lexer": "ipython3",
   "version": "3.5.3"
  }
 },
 "nbformat": 4,
 "nbformat_minor": 2
}
